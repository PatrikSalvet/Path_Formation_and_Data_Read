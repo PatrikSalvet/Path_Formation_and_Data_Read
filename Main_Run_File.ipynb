{
 "cells": [
  {
   "cell_type": "markdown",
   "id": "e06ad0bc-244f-4897-a294-8e90ffc12726",
   "metadata": {},
   "source": [
    "<p style=\"font-size:1.1em; font-weight:bold; color:gray;\">JUPYTER NOTEBOOK THEME AND DISPLAY SETTING</p>"
   ]
  },
  {
   "cell_type": "code",
   "execution_count": null,
   "id": "1d694dd1-d578-4d78-86bf-6619e0a1c932",
   "metadata": {},
   "outputs": [],
   "source": [
    "#!pip install jupyterthemes\n",
    "#!jt -t monokai\n",
    "#from IPython.display import display, HTML\n",
    "#display(HTML(\"<style>.jp-Notebook { --jp-notebook-max-width: 44%; }</style>\"))"
   ]
  },
  {
   "cell_type": "markdown",
   "id": "2c36559e-999b-4ed7-9450-ba7b40fcdec7",
   "metadata": {},
   "source": [
    "<p style=\"font-size:1.1em; font-weight:bold; color:GRAY;\">COMMENT DISPLAY SETTING</p>"
   ]
  },
  {
   "cell_type": "code",
   "execution_count": null,
   "id": "f4e4cf0a-63f2-4937-b6ad-3ee64e8e9813",
   "metadata": {},
   "outputs": [],
   "source": [
    "#from IPython.core.display import display, HTML\n",
    "#display(HTML(\"<style>.cm-s-ipython span.cm-comment { color: rgba(255, 165, 0, 1); }</style>\"))\n",
    "#display(HTML(\"<style>.cm-s-ipython span.cm-comment { color: rgba(255, 165, 0, 0); }</style>\"))"
   ]
  },
  {
   "cell_type": "markdown",
   "id": "2abce002-724b-4ade-bd6b-71dbef2707e2",
   "metadata": {},
   "source": [
    "<p style=\"font-size:1.1em; font-weight:bold; color:GRAY;\">LIBRARIES IMPORT</p>"
   ]
  },
  {
   "cell_type": "code",
   "execution_count": null,
   "id": "7ca0c7cd-c05c-4ba8-98b7-50c986958a19",
   "metadata": {},
   "outputs": [],
   "source": [
    "import time\n",
    "import numpy as np\n",
    "import pandas as pd\n",
    "import re, logging, os, copy\n",
    "logging.basicConfig(format = \"%(levelname)s - %(message)s\", level = logging.DEBUG)"
   ]
  },
  {
   "cell_type": "markdown",
   "id": "a59bb1d5-19d7-451d-abb2-a906b5e62079",
   "metadata": {},
   "source": [
    "<p style=\"font-size:1.1em; font-weight:bold; color:GRAY;\">PACKAGE IMPORT</p>"
   ]
  },
  {
   "cell_type": "code",
   "execution_count": null,
   "id": "c1c44567-da0b-4788-8af2-c5d396353b0a",
   "metadata": {},
   "outputs": [],
   "source": [
    "from package.file_path_widget_func import file_path_widgets\n",
    "from package.file_path_func import file_path"
   ]
  },
  {
   "cell_type": "markdown",
   "id": "f8cc47e9-6dd5-4609-932f-1cbd434e7541",
   "metadata": {},
   "source": [
    "<p style=\"font-size:1.1em; font-weight:bold; color:GRAY;\">FUNCTION EXECUTION BY WIDGETS</p>"
   ]
  },
  {
   "cell_type": "code",
   "execution_count": null,
   "id": "3eecd368-38b1-4825-9a14-71e6a62a98e3",
   "metadata": {},
   "outputs": [],
   "source": [
    "# The widgets may not display properly, depending on the jupyter notebook version. As an alternative you can use the function execution by code below\n",
    "file_path_widgets()"
   ]
  },
  {
   "cell_type": "markdown",
   "id": "1ee869a2-0afd-4056-971a-91b825f8c0e8",
   "metadata": {},
   "source": [
    "<p style=\"font-size:1.1em; font-weight:bold; color:GRAY;\">FUNCTION EXECUTION BY CODE</p>"
   ]
  },
  {
   "cell_type": "code",
   "execution_count": null,
   "id": "9d330e19-3ba2-4b2a-a53b-7ad41c0fe575",
   "metadata": {},
   "outputs": [],
   "source": [
    "path = r'C:\\Users\\patri\\Desktop\\Python_Project\\test_files'\n",
    "filename = 'N02', 'N03', 'N04', 'N05'\n",
    "postfix = 'xlsx'\n",
    "log = True\n",
    "file = file_path(path, filename, postfix, log)"
   ]
  },
  {
   "cell_type": "markdown",
   "id": "180c7c34-28e5-4e16-8254-02750a8bbdc4",
   "metadata": {},
   "source": [
    "<p style=\"font-size:1.1em; font-weight:bold; color:GRAY;\">Call help(file_path) and help(file_path_widgets) for detailed function guide.</p>"
   ]
  }
 ],
 "metadata": {
  "kernelspec": {
   "display_name": "Python [conda env:base] *",
   "language": "python",
   "name": "conda-base-py"
  },
  "language_info": {
   "codemirror_mode": {
    "name": "ipython",
    "version": 3
   },
   "file_extension": ".py",
   "mimetype": "text/x-python",
   "name": "python",
   "nbconvert_exporter": "python",
   "pygments_lexer": "ipython3",
   "version": "3.12.7"
  }
 },
 "nbformat": 4,
 "nbformat_minor": 5
}
